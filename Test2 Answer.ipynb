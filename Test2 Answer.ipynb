{
 "cells": [
  {
   "cell_type": "markdown",
   "metadata": {},
   "source": [
    "# Offsite Test2"
   ]
  },
  {
   "cell_type": "markdown",
   "metadata": {},
   "source": [
    "## 1. Read Data"
   ]
  },
  {
   "cell_type": "code",
   "execution_count": 2,
   "metadata": {
    "collapsed": true
   },
   "outputs": [],
   "source": [
    "from pyspark.sql import SparkSession\n",
    "#from pyspark import SparkContext\n",
    "from pyspark.sql import SQLContext\n",
    "from pyspark.sql.functions import*\n",
    "from pyspark.sql.types import*\n",
    "from datetime import datetime as dt, timedelta\n",
    "from pyspark.sql import Window"
   ]
  },
  {
   "cell_type": "markdown",
   "metadata": {},
   "source": [
    "Ininialize spark session which run in local use 4 thread "
   ]
  },
  {
   "cell_type": "code",
   "execution_count": 12,
   "metadata": {
    "collapsed": false
   },
   "outputs": [],
   "source": [
    "# Initialise spark session \n",
    "spark = SparkSession.builder.master('local[4]').getOrCreate()"
   ]
  },
  {
   "cell_type": "code",
   "execution_count": 13,
   "metadata": {
    "collapsed": false
   },
   "outputs": [],
   "source": [
    "#Set spark session timezone to UTC\n",
    "spark.conf.set(\"spark.sql.session.timeZone\", \"UTC\")"
   ]
  },
  {
   "cell_type": "code",
   "execution_count": 14,
   "metadata": {
    "collapsed": false
   },
   "outputs": [],
   "source": [
    "sqlContext = SQLContext(spark)"
   ]
  },
  {
   "cell_type": "markdown",
   "metadata": {},
   "source": [
    "- Download the files from the link and rename to partx.parquet"
   ]
  },
  {
   "cell_type": "code",
   "execution_count": 15,
   "metadata": {
    "collapsed": false
   },
   "outputs": [],
   "source": [
    "# Read parquet file\n",
    "df = sqlContext.read.parquet(\"part0.parquet\",\"part1.parquet\",\"part2.parquet\",\"part3.parquet\")"
   ]
  },
  {
   "cell_type": "code",
   "execution_count": 16,
   "metadata": {
    "collapsed": false
   },
   "outputs": [
    {
     "name": "stdout",
     "output_type": "stream",
     "text": [
      "root\n",
      " |-- server_ts: long (nullable = true)\n",
      " |-- e_n: string (nullable = true)\n",
      " |-- uid: string (nullable = true)\n",
      " |-- device: string (nullable = true)\n",
      "\n"
     ]
    }
   ],
   "source": [
    "df.printSchema()"
   ]
  },
  {
   "cell_type": "code",
   "execution_count": 17,
   "metadata": {
    "collapsed": false
   },
   "outputs": [
    {
     "data": {
      "text/plain": [
       "1303198"
      ]
     },
     "execution_count": 17,
     "metadata": {},
     "output_type": "execute_result"
    }
   ],
   "source": [
    "df.count()"
   ]
  },
  {
   "cell_type": "code",
   "execution_count": 642,
   "metadata": {
    "collapsed": false
   },
   "outputs": [
    {
     "name": "stdout",
     "output_type": "stream",
     "text": [
      "+-------------+------------------+--------+------+\n",
      "|    server_ts|               e_n|     uid|device|\n",
      "+-------------+------------------+--------+------+\n",
      "|1526834759526|{\"article_id\":897}|d8ab96a3|mobile|\n",
      "|1526834759498|{\"article_id\":288}|fcc4523f|mobile|\n",
      "|1526834759837|{\"article_id\":342}|43268f68|mobile|\n",
      "|1526834760073|{\"article_id\":970}|e66f2fd5|mobile|\n",
      "|1526834760056|{\"article_id\":827}|aaabad9b|mobile|\n",
      "+-------------+------------------+--------+------+\n",
      "only showing top 5 rows\n",
      "\n"
     ]
    }
   ],
   "source": [
    "df.show(5)"
   ]
  },
  {
   "cell_type": "markdown",
   "metadata": {},
   "source": [
    "## 2. Transform Data "
   ]
  },
  {
   "cell_type": "code",
   "execution_count": 18,
   "metadata": {
    "collapsed": true
   },
   "outputs": [],
   "source": [
    "# Extract article_id from json string\n",
    "df2 = df.select('server_ts',json_tuple(df.e_n,'article_id').alias(\"article_id\"),'uid','device')  "
   ]
  },
  {
   "cell_type": "code",
   "execution_count": 19,
   "metadata": {
    "collapsed": false
   },
   "outputs": [],
   "source": [
    "# Define convert_datetime function \n",
    "def convert_datetime(m_seconds) : \n",
    "    gmt_datetime=dt(1970, 1, 1) + timedelta(milliseconds= m_seconds)\n",
    "    dtStr = gmt_datetime.strftime(\"%Y-%m-%dT%H:%M:%S.%f\")\n",
    "    return dtStr"
   ]
  },
  {
   "cell_type": "code",
   "execution_count": 20,
   "metadata": {
    "collapsed": false
   },
   "outputs": [],
   "source": [
    "# Register convert_datetime function\n",
    "dtfmt = udf(convert_datetime, StringType())"
   ]
  },
  {
   "cell_type": "code",
   "execution_count": 21,
   "metadata": {
    "collapsed": true
   },
   "outputs": [],
   "source": [
    "# Apply function\n",
    "df3 = df2.withColumn('gmt_datetime', dtfmt(df2.server_ts))"
   ]
  },
  {
   "cell_type": "code",
   "execution_count": 22,
   "metadata": {
    "collapsed": false
   },
   "outputs": [
    {
     "name": "stdout",
     "output_type": "stream",
     "text": [
      "+-------------+----------+--------+------+--------------------+\n",
      "|    server_ts|article_id|     uid|device|        gmt_datetime|\n",
      "+-------------+----------+--------+------+--------------------+\n",
      "|1526834759526|       897|d8ab96a3|mobile|2018-05-20T16:45:...|\n",
      "|1526834759498|       288|fcc4523f|mobile|2018-05-20T16:45:...|\n",
      "|1526834759837|       342|43268f68|mobile|2018-05-20T16:45:...|\n",
      "|1526834760073|       970|e66f2fd5|mobile|2018-05-20T16:46:...|\n",
      "|1526834760056|       827|aaabad9b|mobile|2018-05-20T16:46:...|\n",
      "+-------------+----------+--------+------+--------------------+\n",
      "only showing top 5 rows\n",
      "\n"
     ]
    }
   ],
   "source": [
    "df3.show(5)"
   ]
  },
  {
   "cell_type": "code",
   "execution_count": 23,
   "metadata": {
    "collapsed": false
   },
   "outputs": [],
   "source": [
    "#Extract date and hour from gmt_datetime\n",
    "df4 = df3.withColumn('view_date', date_format(df3.gmt_datetime.cast('timestamp'), 'yyyy-MM-dd').cast('date'))\\\n",
    "          .withColumn('view_hr', lpad(hour(df3.gmt_datetime),2,'0'))"
   ]
  },
  {
   "cell_type": "code",
   "execution_count": 24,
   "metadata": {
    "collapsed": false
   },
   "outputs": [
    {
     "data": {
      "text/plain": [
       "99"
      ]
     },
     "execution_count": 24,
     "metadata": {},
     "output_type": "execute_result"
    }
   ],
   "source": [
    "#Check any date not in 2018-05-20\n",
    "df4.filter(df4.view_date!='2018-05-20').count()"
   ]
  },
  {
   "cell_type": "code",
   "execution_count": 25,
   "metadata": {
    "collapsed": false
   },
   "outputs": [],
   "source": [
    "#View records \n",
    "df_check = df4.filter(df4.view_date!='2018-05-20')"
   ]
  },
  {
   "cell_type": "code",
   "execution_count": 26,
   "metadata": {
    "collapsed": false
   },
   "outputs": [
    {
     "data": {
      "text/plain": [
       "[Row(server_ts=1526860800241, article_id='815', uid='331c234a', device='mobile', gmt_datetime='2018-05-21T00:00:00.241000', view_date=datetime.date(2018, 5, 21), view_hr='00'),\n",
       " Row(server_ts=1526860800296, article_id='614', uid='388d7d18', device='mobile', gmt_datetime='2018-05-21T00:00:00.296000', view_date=datetime.date(2018, 5, 21), view_hr='00'),\n",
       " Row(server_ts=1526860800238, article_id='85', uid='b552d08a', device='mobile', gmt_datetime='2018-05-21T00:00:00.238000', view_date=datetime.date(2018, 5, 21), view_hr='00'),\n",
       " Row(server_ts=1526860800338, article_id='231', uid='d6e72fb9', device='mobile', gmt_datetime='2018-05-21T00:00:00.338000', view_date=datetime.date(2018, 5, 21), view_hr='00'),\n",
       " Row(server_ts=1526860800714, article_id='543', uid='a2857d03', device='mobile', gmt_datetime='2018-05-21T00:00:00.714000', view_date=datetime.date(2018, 5, 21), view_hr='00')]"
      ]
     },
     "execution_count": 26,
     "metadata": {},
     "output_type": "execute_result"
    }
   ],
   "source": [
    "df_check.head(5)"
   ]
  },
  {
   "cell_type": "code",
   "execution_count": 27,
   "metadata": {
    "collapsed": true
   },
   "outputs": [],
   "source": [
    "#Filter records with date not in '2018-05-20'\n",
    "df5 = df4.filter(df4.view_date =='2018-05-20')"
   ]
  },
  {
   "cell_type": "markdown",
   "metadata": {},
   "source": [
    "# Q1 Page View Events Analysis"
   ]
  },
  {
   "cell_type": "markdown",
   "metadata": {},
   "source": [
    "## Q1a The total number of pageviews"
   ]
  },
  {
   "cell_type": "code",
   "execution_count": 28,
   "metadata": {
    "collapsed": false
   },
   "outputs": [
    {
     "data": {
      "text/plain": [
       "1303099"
      ]
     },
     "execution_count": 28,
     "metadata": {},
     "output_type": "execute_result"
    }
   ],
   "source": [
    "#Q1a Total pageviews\n",
    "df5.count()"
   ]
  },
  {
   "cell_type": "markdown",
   "metadata": {},
   "source": [
    "## Q1b The greatest view article"
   ]
  },
  {
   "cell_type": "code",
   "execution_count": 29,
   "metadata": {
    "collapsed": false
   },
   "outputs": [
    {
     "name": "stdout",
     "output_type": "stream",
     "text": [
      "+----------+-----+\n",
      "|article_id|count|\n",
      "+----------+-----+\n",
      "|       827|49243|\n",
      "+----------+-----+\n",
      "only showing top 1 row\n",
      "\n"
     ]
    }
   ],
   "source": [
    "#Q1b The greatest view article\n",
    "df5.groupBy(\"article_id\").count().orderBy('count', ascending=False).show(1)"
   ]
  },
  {
   "cell_type": "markdown",
   "metadata": {},
   "source": [
    "## Q1c Greatest view article in each hour"
   ]
  },
  {
   "cell_type": "code",
   "execution_count": 30,
   "metadata": {
    "collapsed": false
   },
   "outputs": [
    {
     "name": "stdout",
     "output_type": "stream",
     "text": [
      "+---------+----------+---+------+------------+---------+-------+\n",
      "|server_ts|article_id|uid|device|gmt_datetime|view_date|view_hr|\n",
      "+---------+----------+---+------+------------+---------+-------+\n",
      "+---------+----------+---+------+------------+---------+-------+\n",
      "\n"
     ]
    }
   ],
   "source": [
    "#Check any invalid hour\n",
    "df5.where((col(\"view_hr\").isNull()) | (col(\"view_hr\")>24)).show()"
   ]
  },
  {
   "cell_type": "code",
   "execution_count": 31,
   "metadata": {
    "collapsed": true
   },
   "outputs": [],
   "source": [
    "df_agg_hr = df5.groupBy(\"view_hr\",\"article_id\").count()"
   ]
  },
  {
   "cell_type": "code",
   "execution_count": 32,
   "metadata": {
    "collapsed": false
   },
   "outputs": [],
   "source": [
    "window = Window.partitionBy(df_agg_hr['view_hr']).orderBy(df_agg_hr['count'].desc())"
   ]
  },
  {
   "cell_type": "code",
   "execution_count": 33,
   "metadata": {
    "collapsed": false
   },
   "outputs": [],
   "source": [
    "df_1c = df_agg_hr.select('*', rank().over(window).alias('rank')) \\\n",
    "  .filter(col('rank') <= 1) "
   ]
  },
  {
   "cell_type": "code",
   "execution_count": 34,
   "metadata": {
    "collapsed": false
   },
   "outputs": [
    {
     "name": "stdout",
     "output_type": "stream",
     "text": [
      "+----+----------+-----+\n",
      "|hour|article_id|count|\n",
      "+----+----------+-----+\n",
      "|  00|       830| 3105|\n",
      "|  01|       155| 4933|\n",
      "|  02|       830| 2914|\n",
      "|  03|       374| 5404|\n",
      "|  04|       374| 6139|\n",
      "|  05|       897| 4418|\n",
      "|  06|       813| 3214|\n",
      "|  07|       740| 2517|\n",
      "|  08|       712| 3045|\n",
      "|  09|       712| 1937|\n",
      "|  10|       827| 6702|\n",
      "|  11|       827| 7198|\n",
      "|  12|       827| 6428|\n",
      "|  13|       827| 5518|\n",
      "|  14|       827| 4806|\n",
      "|  15|        67| 6942|\n",
      "|  16|       827| 3139|\n",
      "|  17|       871| 2274|\n",
      "|  18|       827| 1072|\n",
      "|  19|       827|  696|\n",
      "|  20|       827|  391|\n",
      "|  21|       827|  430|\n",
      "|  22|        85| 1636|\n",
      "|  23|        85| 4229|\n",
      "+----+----------+-----+\n",
      "\n"
     ]
    }
   ],
   "source": [
    "df_1c.select(df_1c.view_hr.alias('hour') ,'article_id','count').orderBy('hour').show(24)"
   ]
  },
  {
   "cell_type": "markdown",
   "metadata": {},
   "source": [
    "### Visualization on Q1c"
   ]
  },
  {
   "cell_type": "code",
   "execution_count": 35,
   "metadata": {
    "collapsed": true
   },
   "outputs": [],
   "source": [
    "%matplotlib inline\n",
    "import pandas as pd\n",
    "import matplotlib.pyplot as plt"
   ]
  },
  {
   "cell_type": "code",
   "execution_count": 36,
   "metadata": {
    "collapsed": false
   },
   "outputs": [],
   "source": [
    "#Visualization\n",
    "df_pd = df_1c.toPandas()"
   ]
  },
  {
   "cell_type": "code",
   "execution_count": 37,
   "metadata": {
    "collapsed": false
   },
   "outputs": [],
   "source": [
    "df_pd_sort = df_pd.sort_values(by=['count'],ascending=False)"
   ]
  },
  {
   "cell_type": "code",
   "execution_count": 49,
   "metadata": {
    "collapsed": false
   },
   "outputs": [
    {
     "data": {
      "text/html": [
       "<div>\n",
       "<table border=\"1\" class=\"dataframe\">\n",
       "  <thead>\n",
       "    <tr style=\"text-align: right;\">\n",
       "      <th></th>\n",
       "      <th>view_hr</th>\n",
       "      <th>article_id</th>\n",
       "      <th>count</th>\n",
       "      <th>rank</th>\n",
       "    </tr>\n",
       "  </thead>\n",
       "  <tbody>\n",
       "    <tr>\n",
       "      <th>2</th>\n",
       "      <td>11</td>\n",
       "      <td>827</td>\n",
       "      <td>7198</td>\n",
       "      <td>1</td>\n",
       "    </tr>\n",
       "    <tr>\n",
       "      <th>1</th>\n",
       "      <td>15</td>\n",
       "      <td>67</td>\n",
       "      <td>6942</td>\n",
       "      <td>1</td>\n",
       "    </tr>\n",
       "    <tr>\n",
       "      <th>18</th>\n",
       "      <td>10</td>\n",
       "      <td>827</td>\n",
       "      <td>6702</td>\n",
       "      <td>1</td>\n",
       "    </tr>\n",
       "    <tr>\n",
       "      <th>19</th>\n",
       "      <td>12</td>\n",
       "      <td>827</td>\n",
       "      <td>6428</td>\n",
       "      <td>1</td>\n",
       "    </tr>\n",
       "    <tr>\n",
       "      <th>20</th>\n",
       "      <td>04</td>\n",
       "      <td>374</td>\n",
       "      <td>6139</td>\n",
       "      <td>1</td>\n",
       "    </tr>\n",
       "  </tbody>\n",
       "</table>\n",
       "</div>"
      ],
      "text/plain": [
       "   view_hr article_id  count  rank\n",
       "2       11        827   7198     1\n",
       "1       15         67   6942     1\n",
       "18      10        827   6702     1\n",
       "19      12        827   6428     1\n",
       "20      04        374   6139     1"
      ]
     },
     "execution_count": 49,
     "metadata": {},
     "output_type": "execute_result"
    }
   ],
   "source": [
    "df_pd_sort.head()"
   ]
  },
  {
   "cell_type": "code",
   "execution_count": 53,
   "metadata": {
    "collapsed": false
   },
   "outputs": [
    {
     "data": {
      "text/plain": [
       "<matplotlib.text.Text at 0x11c6fa518>"
      ]
     },
     "execution_count": 53,
     "metadata": {},
     "output_type": "execute_result"
    },
    {
     "data": {
      "image/png": "[encoded data removed]",
      "text/plain": [
       "<matplotlib.figure.Figure at 0x11c8c52e8>"
      ]
     },
     "metadata": {},
     "output_type": "display_data"
    }
   ],
   "source": [
    "ax = df_pd_sort.plot(x='view_hr', y='count', kind='bar', title =\"Pageviews count in each hour on 2018-05-20\", \\\n",
    "                figsize=(15,10),legend=True, fontsize=12)\n",
    "ax.set_xlabel(\"Hour\",fontsize=12)\n",
    "ax.set_ylabel(\"Pageviews\",fontsize=12)\n"
   ]
  },
  {
   "cell_type": "markdown",
   "metadata": {},
   "source": [
    "- 10am-12noon and 3:00pm are top 4 pageviews period"
   ]
  },
  {
   "cell_type": "markdown",
   "metadata": {},
   "source": [
    "## Q1d Average and Median number of pageviews per user"
   ]
  },
  {
   "cell_type": "code",
   "execution_count": 54,
   "metadata": {
    "collapsed": true
   },
   "outputs": [],
   "source": [
    "df_agg = df5.groupBy(\"uid\").count()"
   ]
  },
  {
   "cell_type": "code",
   "execution_count": 55,
   "metadata": {
    "collapsed": false
   },
   "outputs": [
    {
     "name": "stdout",
     "output_type": "stream",
     "text": [
      "+-----------------+\n",
      "|       avg(count)|\n",
      "+-----------------+\n",
      "|2.399509086322364|\n",
      "+-----------------+\n",
      "\n"
     ]
    }
   ],
   "source": [
    "#Average\n",
    "df_agg.agg({\"count\": \"avg\"}).show()"
   ]
  },
  {
   "cell_type": "code",
   "execution_count": 56,
   "metadata": {
    "collapsed": false
   },
   "outputs": [
    {
     "data": {
      "text/plain": [
       "[39.0]"
      ]
     },
     "execution_count": 56,
     "metadata": {},
     "output_type": "execute_result"
    }
   ],
   "source": [
    "#Median\n",
    "df_agg.approxQuantile(\"count\", [0.5], 0.25)"
   ]
  },
  {
   "cell_type": "markdown",
   "metadata": {},
   "source": [
    "# Q2 User Session Analysis"
   ]
  },
  {
   "cell_type": "code",
   "execution_count": 57,
   "metadata": {
    "collapsed": true
   },
   "outputs": [],
   "source": [
    "df_q2 = df5.select(\"uid\",\"article_id\",\"server_ts\",\"gmt_datetime\")"
   ]
  },
  {
   "cell_type": "code",
   "execution_count": 58,
   "metadata": {
    "collapsed": true
   },
   "outputs": [],
   "source": [
    "#Create window partition by uid\n",
    "w = Window.partitionBy(\"uid\").orderBy(\"server_ts\")"
   ]
  },
  {
   "cell_type": "code",
   "execution_count": 59,
   "metadata": {
    "collapsed": true
   },
   "outputs": [],
   "source": [
    "#Calculate time differences\n",
    "df_q2 = df_q2.withColumn(\"time_diff\",(df_q2.server_ts - lag(df_q2.server_ts, 1) \\\n",
    "    .over(w)\n",
    "    .cast(\"bigint\"))) "
   ]
  },
  {
   "cell_type": "code",
   "execution_count": 60,
   "metadata": {
    "collapsed": true
   },
   "outputs": [],
   "source": [
    "#Fill null values with 0\n",
    "df_q2 = df_q2.na.fill({'time_diff':0})  "
   ]
  },
  {
   "cell_type": "code",
   "execution_count": 61,
   "metadata": {
    "collapsed": true
   },
   "outputs": [],
   "source": [
    "#Declare milliseconds in 30 mins variable\n",
    "SESSION_DURATION = 1800000"
   ]
  },
  {
   "cell_type": "code",
   "execution_count": 62,
   "metadata": {
    "collapsed": true
   },
   "outputs": [],
   "source": [
    "#Find temp group with time_diff > 30 mins\n",
    "df_q2 = df_q2.withColumn(\"indicator\", ((df_q2.time_diff > SESSION_DURATION) | (df_q2.time_diff==0 )).cast(\"int\"))    "
   ]
  },
  {
   "cell_type": "code",
   "execution_count": 63,
   "metadata": {
    "collapsed": true
   },
   "outputs": [],
   "source": [
    "#Assign temp_grp with time_diff > 30 mins\n",
    "df_q2 = df_q2.withColumn(\"temp_grp\",sum(df_q2.indicator).over(w))"
   ]
  },
  {
   "cell_type": "code",
   "execution_count": 64,
   "metadata": {
    "collapsed": true
   },
   "outputs": [],
   "source": [
    "#Create window partition by uid and temp_grp\n",
    "w2 = Window.partitionBy(\"uid\",\"temp_grp\").orderBy(\"server_ts\")"
   ]
  },
  {
   "cell_type": "code",
   "execution_count": 65,
   "metadata": {
    "collapsed": false
   },
   "outputs": [],
   "source": [
    "#Calculate accumulate time in each temp_grp\n",
    "df_q2 = df_q2.withColumn(\"accum_time\",df_q2.server_ts - min(df_q2.server_ts).over(w2))"
   ]
  },
  {
   "cell_type": "code",
   "execution_count": 66,
   "metadata": {
    "collapsed": false
   },
   "outputs": [],
   "source": [
    "#Create a check column\n",
    "df_q2 = df_q2.withColumn(\"session_check\",(df_q2.accum_time/SESSION_DURATION).cast('int'))"
   ]
  },
  {
   "cell_type": "code",
   "execution_count": 67,
   "metadata": {
    "collapsed": false
   },
   "outputs": [],
   "source": [
    "df_q2 = df_q2.withColumn(\"indicator2\", df_q2.session_check - lag(df_q2.session_check,1,0).over(w2))"
   ]
  },
  {
   "cell_type": "code",
   "execution_count": 68,
   "metadata": {
    "collapsed": false
   },
   "outputs": [],
   "source": [
    "df_q2 = df_q2.withColumn(\"session_id\", sum(df_q2.indicator+df_q2.indicator2).over(w))"
   ]
  },
  {
   "cell_type": "code",
   "execution_count": 69,
   "metadata": {
    "collapsed": false
   },
   "outputs": [],
   "source": [
    "df_session = df_q2.groupBy(\"uid\",\"session_id\").agg( \\\n",
    "    min(\"gmt_datetime\").alias(\"start_time\"), \\\n",
    "    max(\"gmt_datetime\").alias(\"end_time\"), \\\n",
    "    (max(\"server_ts\") - min(\"server_ts\")).alias('session_length'), \\\n",
    "    count(\"*\").alias(\"pageviews\"))"
   ]
  },
  {
   "cell_type": "code",
   "execution_count": 91,
   "metadata": {
    "collapsed": true
   },
   "outputs": [],
   "source": [
    "windowval = (Window.partitionBy('uid','temp_grp').orderBy('server_ts') \\\n",
    "             .rangeBetween(Window.unboundedPreceding, 0)) "
   ]
  },
  {
   "cell_type": "code",
   "execution_count": 92,
   "metadata": {
    "collapsed": false
   },
   "outputs": [],
   "source": [
    "df_w_cumsum = df_q2.withColumn('cum_sum', when ((sum('time_diff').over(windowval)) > 1800000, 0). \\\n",
    "                                   otherwise(sum('time_diff').over(windowval)))"
   ]
  },
  {
   "cell_type": "code",
   "execution_count": 93,
   "metadata": {
    "collapsed": false
   },
   "outputs": [
    {
     "name": "stdout",
     "output_type": "stream",
     "text": [
      "+--------+-------------+---------+---------+----------+-------+\n",
      "|     uid|    server_ts|time_diff|indicator|indicator2|cum_sum|\n",
      "+--------+-------------+---------+---------+----------+-------+\n",
      "|000cd7dd|1526799963986|        0|        1|         0|      0|\n",
      "|000cd7dd|1526800253259|   289273|        0|         0| 289273|\n",
      "|000cd7dd|1526800399991|   146732|        0|         0| 436005|\n",
      "|000cd7dd|1526800509294|   109303|        0|         0| 545308|\n",
      "|000cd7dd|1526800775351|   266057|        0|         0| 811365|\n",
      "|004abcf8|1526835814516|        0|        1|         0|      0|\n",
      "|00723ac0|1526838965828|        0|        1|         0|      0|\n",
      "|0074550b|1526784998203|        0|        1|         0|      0|\n",
      "|0074550b|1526785886410|   888207|        0|         0| 888207|\n",
      "|0074550b|1526811692291| 25805881|        1|         0|      0|\n",
      "|0074550b|1526819833093|  8140802|        1|         0|      0|\n",
      "|0075fc8c|1526816844858|        0|        1|         0|      0|\n",
      "|0075fc8c|1526816871037|    26179|        0|         0|  26179|\n",
      "|0075fc8c|1526816915095|    44058|        0|         0|  70237|\n",
      "|0075fc8c|1526816956292|    41197|        0|         0| 111434|\n",
      "|0075fc8c|1526817074219|   117927|        0|         0| 229361|\n",
      "|00a345f2|1526811120201|        0|        1|         0|      0|\n",
      "|00cc9468|1526801127817|        0|        1|         0|      0|\n",
      "|00d8e6a1|1526836645924|        0|        1|         0|      0|\n",
      "|00d8edce|1526778130709|        0|        1|         0|      0|\n",
      "+--------+-------------+---------+---------+----------+-------+\n",
      "only showing top 20 rows\n",
      "\n"
     ]
    }
   ],
   "source": [
    "df_w_cumsum.select(\"uid\",\"server_ts\",\"time_diff\",\"indicator\",\"indicator2\",\"cum_sum\").show()"
   ]
  },
  {
   "cell_type": "code",
   "execution_count": 70,
   "metadata": {
    "collapsed": false
   },
   "outputs": [
    {
     "name": "stdout",
     "output_type": "stream",
     "text": [
      "+--------+----------+--------------------+--------------------+--------------+---------+\n",
      "|     uid|session_id|          start_time|            end_time|session_length|pageviews|\n",
      "+--------+----------+--------------------+--------------------+--------------+---------+\n",
      "|000cd7dd|         1|2018-05-20T07:06:...|2018-05-20T07:19:...|        811365|        5|\n",
      "|004abcf8|         1|2018-05-20T17:03:...|2018-05-20T17:03:...|             0|        1|\n",
      "|00723ac0|         1|2018-05-20T17:56:...|2018-05-20T17:56:...|             0|        1|\n",
      "|0074550b|         1|2018-05-20T02:56:...|2018-05-20T03:11:...|        888207|        2|\n",
      "|0074550b|         2|2018-05-20T10:21:...|2018-05-20T10:21:...|             0|        1|\n",
      "|0074550b|         3|2018-05-20T12:37:...|2018-05-20T12:37:...|             0|        1|\n",
      "|0075fc8c|         1|2018-05-20T11:47:...|2018-05-20T11:51:...|        229361|        5|\n",
      "|00a345f2|         1|2018-05-20T10:12:...|2018-05-20T10:12:...|             0|        1|\n",
      "|00cc9468|         1|2018-05-20T07:25:...|2018-05-20T07:25:...|             0|        1|\n",
      "|00d8e6a1|         1|2018-05-20T17:17:...|2018-05-20T17:17:...|             0|        1|\n",
      "|00d8edce|         1|2018-05-20T01:02:...|2018-05-20T01:03:...|         97143|        2|\n",
      "|00d8edce|         2|2018-05-20T01:36:...|2018-05-20T01:43:...|        459686|        4|\n",
      "|00d8edce|         3|2018-05-20T04:46:...|2018-05-20T04:53:...|        369315|        3|\n",
      "|00d8edce|         4|2018-05-20T07:30:...|2018-05-20T07:45:...|        886920|        3|\n",
      "|00d8edce|         5|2018-05-20T10:34:...|2018-05-20T10:34:...|             0|        1|\n",
      "|00d8edce|         6|2018-05-20T15:05:...|2018-05-20T15:05:...|             0|        1|\n",
      "|00ec39ee|         1|2018-05-20T14:51:...|2018-05-20T15:02:...|        718182|        4|\n",
      "|00f59c56|         1|2018-05-20T02:21:...|2018-05-20T02:21:...|             0|        1|\n",
      "|00f7ff75|         1|2018-05-20T11:26:...|2018-05-20T11:26:...|             0|        1|\n",
      "|010112bd|         1|2018-05-20T13:00:...|2018-05-20T13:00:...|             0|        1|\n",
      "+--------+----------+--------------------+--------------------+--------------+---------+\n",
      "only showing top 20 rows\n",
      "\n"
     ]
    }
   ],
   "source": [
    "df_session.show()"
   ]
  },
  {
   "cell_type": "markdown",
   "metadata": {},
   "source": [
    "## Q2a Total number of sessions"
   ]
  },
  {
   "cell_type": "code",
   "execution_count": 71,
   "metadata": {
    "collapsed": false
   },
   "outputs": [
    {
     "data": {
      "text/plain": [
       "775120"
      ]
     },
     "execution_count": 71,
     "metadata": {},
     "output_type": "execute_result"
    }
   ],
   "source": [
    "df_session.select(\"uid\",\"session_id\").count()"
   ]
  },
  {
   "cell_type": "code",
   "execution_count": 72,
   "metadata": {
    "collapsed": false
   },
   "outputs": [
    {
     "name": "stdout",
     "output_type": "stream",
     "text": [
      "+-------------------+\n",
      "|count(DISTINCT uid)|\n",
      "+-------------------+\n",
      "|             543068|\n",
      "+-------------------+\n",
      "\n"
     ]
    }
   ],
   "source": [
    "df_session.agg(countDistinct('uid')).show()"
   ]
  },
  {
   "cell_type": "markdown",
   "metadata": {},
   "source": [
    "## Q2b User with largest number of session"
   ]
  },
  {
   "cell_type": "code",
   "execution_count": 73,
   "metadata": {
    "collapsed": false
   },
   "outputs": [
    {
     "name": "stdout",
     "output_type": "stream",
     "text": [
      "+--------+-----+\n",
      "|     uid|count|\n",
      "+--------+-----+\n",
      "|c82275f3|   47|\n",
      "+--------+-----+\n",
      "only showing top 1 row\n",
      "\n"
     ]
    }
   ],
   "source": [
    "df_session.groupBy(\"uid\").count().orderBy('count', ascending=False).show(1)"
   ]
  },
  {
   "cell_type": "markdown",
   "metadata": {},
   "source": [
    "## Q2c Average and median of session length"
   ]
  },
  {
   "cell_type": "code",
   "execution_count": 74,
   "metadata": {
    "collapsed": false
   },
   "outputs": [
    {
     "name": "stdout",
     "output_type": "stream",
     "text": [
      "+-------------------+\n",
      "|avg(session_length)|\n",
      "+-------------------+\n",
      "| 143198.72549024667|\n",
      "+-------------------+\n",
      "\n"
     ]
    }
   ],
   "source": [
    "#Average\n",
    "df_session.agg({\"session_length\": \"avg\"}).show()"
   ]
  },
  {
   "cell_type": "code",
   "execution_count": 75,
   "metadata": {
    "collapsed": false
   },
   "outputs": [
    {
     "data": {
      "text/plain": [
       "[1795923.0]"
      ]
     },
     "execution_count": 75,
     "metadata": {},
     "output_type": "execute_result"
    }
   ],
   "source": [
    "#Median\n",
    "df_session.approxQuantile(\"session_length\", [0.5], 0.25)"
   ]
  }
 ],
 "metadata": {
  "kernelspec": {
   "display_name": "Python [default]",
   "language": "python",
   "name": "python3"
  },
  "language_info": {
   "codemirror_mode": {
    "name": "ipython",
    "version": 3
   },
   "file_extension": ".py",
   "mimetype": "text/x-python",
   "name": "python",
   "nbconvert_exporter": "python",
   "pygments_lexer": "ipython3",
   "version": "3.6.0"
  }
 },
 "nbformat": 4,
 "nbformat_minor": 2
}
