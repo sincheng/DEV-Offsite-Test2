{
 "cells": [
  {
   "cell_type": "markdown",
   "metadata": {},
   "source": [
    "# Offsite Test2"
   ]
  },
  {
   "cell_type": "markdown",
   "metadata": {},
   "source": [
    "## 1. Read Data"
   ]
  },
  {
   "cell_type": "code",
   "execution_count": 78,
   "metadata": {
    "collapsed": true
   },
   "outputs": [],
   "source": [
    "from pyspark.sql import SparkSession\n",
    "from pyspark.sql import SQLContext\n",
    "from pyspark.sql.functions import*\n",
    "from pyspark.sql.types import*\n",
    "from datetime import datetime as dt, timedelta\n",
    "from pyspark.sql import Window"
   ]
  },
  {
   "cell_type": "markdown",
   "metadata": {},
   "source": [
    "Ininialize spark session which run in local use 4 threads "
   ]
  },
  {
   "cell_type": "code",
   "execution_count": 79,
   "metadata": {
    "collapsed": false
   },
   "outputs": [],
   "source": [
    "# Initialise spark session \n",
    "spark = SparkSession.builder.master('local[4]').getOrCreate()"
   ]
  },
  {
   "cell_type": "code",
   "execution_count": 80,
   "metadata": {
    "collapsed": false
   },
   "outputs": [],
   "source": [
    "#Set spark session timezone to UTC\n",
    "spark.conf.set(\"spark.sql.session.timeZone\", \"UTC\")"
   ]
  },
  {
   "cell_type": "code",
   "execution_count": 81,
   "metadata": {
    "collapsed": false
   },
   "outputs": [],
   "source": [
    "sqlContext = SQLContext(spark)"
   ]
  },
  {
   "cell_type": "markdown",
   "metadata": {},
   "source": [
    "* Notes: Download the files from the link and rename to partx.parquet"
   ]
  },
  {
   "cell_type": "code",
   "execution_count": 82,
   "metadata": {
    "collapsed": false
   },
   "outputs": [],
   "source": [
    "# Read parquet file\n",
    "df = sqlContext.read.parquet(\"part0.parquet\",\"part1.parquet\",\"part2.parquet\",\"part3.parquet\")"
   ]
  },
  {
   "cell_type": "markdown",
   "metadata": {},
   "source": [
    "## 2. Data Understanding"
   ]
  },
  {
   "cell_type": "code",
   "execution_count": 83,
   "metadata": {
    "collapsed": false
   },
   "outputs": [
    {
     "data": {
      "text/plain": [
       "1303198"
      ]
     },
     "execution_count": 83,
     "metadata": {},
     "output_type": "execute_result"
    }
   ],
   "source": [
    "# Total Record\n",
    "df.count()"
   ]
  },
  {
   "cell_type": "code",
   "execution_count": 84,
   "metadata": {
    "collapsed": false
   },
   "outputs": [
    {
     "name": "stdout",
     "output_type": "stream",
     "text": [
      "root\n",
      " |-- server_ts: long (nullable = true)\n",
      " |-- e_n: string (nullable = true)\n",
      " |-- uid: string (nullable = true)\n",
      " |-- device: string (nullable = true)\n",
      "\n"
     ]
    }
   ],
   "source": [
    "# View Schema\n",
    "df.printSchema()"
   ]
  },
  {
   "cell_type": "code",
   "execution_count": 85,
   "metadata": {
    "collapsed": false
   },
   "outputs": [
    {
     "name": "stdout",
     "output_type": "stream",
     "text": [
      "+-------------+------------------+--------+------+\n",
      "|    server_ts|               e_n|     uid|device|\n",
      "+-------------+------------------+--------+------+\n",
      "|1526834759526|{\"article_id\":897}|d8ab96a3|mobile|\n",
      "|1526834759498|{\"article_id\":288}|fcc4523f|mobile|\n",
      "|1526834759837|{\"article_id\":342}|43268f68|mobile|\n",
      "|1526834760073|{\"article_id\":970}|e66f2fd5|mobile|\n",
      "|1526834760056|{\"article_id\":827}|aaabad9b|mobile|\n",
      "+-------------+------------------+--------+------+\n",
      "only showing top 5 rows\n",
      "\n"
     ]
    }
   ],
   "source": [
    "#Preview Data\n",
    "df.show(5)"
   ]
  },
  {
   "cell_type": "markdown",
   "metadata": {},
   "source": [
    "## 3. Data Cleaning"
   ]
  },
  {
   "cell_type": "code",
   "execution_count": 86,
   "metadata": {
    "collapsed": false
   },
   "outputs": [
    {
     "name": "stdout",
     "output_type": "stream",
     "text": [
      "+---------+-------+-------+-------+\n",
      "|server_ts|    e_n|    uid| device|\n",
      "+---------+-------+-------+-------+\n",
      "|  1303198|1303198|1303079|1303198|\n",
      "+---------+-------+-------+-------+\n",
      "\n"
     ]
    }
   ],
   "source": [
    "# Check null value\n",
    "def count_not_null(c, nan_as_null=False):\n",
    "    pred = col(c).isNotNull() & (~isnan(c) if nan_as_null else lit(True))\n",
    "    return sum(pred.cast(\"integer\")).alias(c)\n",
    "\n",
    "df.agg(*[count_not_null(c) for c in df.columns]).show()"
   ]
  },
  {
   "cell_type": "markdown",
   "metadata": {},
   "source": [
    "* Filter records with null in u_id"
   ]
  },
  {
   "cell_type": "code",
   "execution_count": 87,
   "metadata": {
    "collapsed": false
   },
   "outputs": [],
   "source": [
    "df = df.filter(df.uid.isNotNull())"
   ]
  },
  {
   "cell_type": "code",
   "execution_count": 88,
   "metadata": {
    "collapsed": false
   },
   "outputs": [
    {
     "name": "stdout",
     "output_type": "stream",
     "text": [
      "+---------+-------+-------+-------+\n",
      "|server_ts|    e_n|    uid| device|\n",
      "+---------+-------+-------+-------+\n",
      "|  1303079|1303079|1303079|1303079|\n",
      "+---------+-------+-------+-------+\n",
      "\n"
     ]
    }
   ],
   "source": [
    "# Ensure no null values\n",
    "df.agg(*[count_not_null(c) for c in df.columns]).show()"
   ]
  },
  {
   "cell_type": "markdown",
   "metadata": {},
   "source": [
    "* Extract article_id from json string"
   ]
  },
  {
   "cell_type": "code",
   "execution_count": 89,
   "metadata": {
    "collapsed": true
   },
   "outputs": [],
   "source": [
    "# Extract article_id from json string\n",
    "df = df.select('server_ts',json_tuple(df.e_n,'article_id').alias(\"article_id\"),'uid','device')  "
   ]
  },
  {
   "cell_type": "markdown",
   "metadata": {},
   "source": [
    "* Convert server timestamp to datetime in GMT time zone"
   ]
  },
  {
   "cell_type": "code",
   "execution_count": 90,
   "metadata": {
    "collapsed": false
   },
   "outputs": [],
   "source": [
    "# Define convert_datetime function \n",
    "def convert_datetime(m_seconds) : \n",
    "    gmt_datetime=dt(1970, 1, 1) + timedelta(milliseconds= m_seconds)\n",
    "    dtStr = gmt_datetime.strftime(\"%Y-%m-%dT%H:%M:%S.%f\")\n",
    "    return dtStr"
   ]
  },
  {
   "cell_type": "code",
   "execution_count": 91,
   "metadata": {
    "collapsed": false
   },
   "outputs": [],
   "source": [
    "# Register convert_datetime function\n",
    "dtfmt = udf(convert_datetime, StringType())"
   ]
  },
  {
   "cell_type": "code",
   "execution_count": 92,
   "metadata": {
    "collapsed": true
   },
   "outputs": [],
   "source": [
    "# Apply function\n",
    "df = df.withColumn('gmt_datetime', dtfmt(df.server_ts))"
   ]
  },
  {
   "cell_type": "code",
   "execution_count": 93,
   "metadata": {
    "collapsed": false
   },
   "outputs": [
    {
     "name": "stdout",
     "output_type": "stream",
     "text": [
      "+-------------+----------+--------+------+--------------------+\n",
      "|    server_ts|article_id|     uid|device|        gmt_datetime|\n",
      "+-------------+----------+--------+------+--------------------+\n",
      "|1526834759526|       897|d8ab96a3|mobile|2018-05-20T16:45:...|\n",
      "|1526834759498|       288|fcc4523f|mobile|2018-05-20T16:45:...|\n",
      "|1526834759837|       342|43268f68|mobile|2018-05-20T16:45:...|\n",
      "|1526834760073|       970|e66f2fd5|mobile|2018-05-20T16:46:...|\n",
      "|1526834760056|       827|aaabad9b|mobile|2018-05-20T16:46:...|\n",
      "+-------------+----------+--------+------+--------------------+\n",
      "only showing top 5 rows\n",
      "\n"
     ]
    }
   ],
   "source": [
    "df.show(5)"
   ]
  },
  {
   "cell_type": "code",
   "execution_count": 94,
   "metadata": {
    "collapsed": false
   },
   "outputs": [],
   "source": [
    "# Extract date and hour from gmt_datetime\n",
    "df = df.withColumn('view_date', date_format(df.gmt_datetime.cast('timestamp'), 'yyyy-MM-dd').cast('date'))\\\n",
    "          .withColumn('view_hr', lpad(hour(df.gmt_datetime),2,'0'))"
   ]
  },
  {
   "cell_type": "markdown",
   "metadata": {},
   "source": [
    "* Check any record is not on '2018-05-20'"
   ]
  },
  {
   "cell_type": "code",
   "execution_count": 95,
   "metadata": {
    "collapsed": false
   },
   "outputs": [
    {
     "data": {
      "text/plain": [
       "99"
      ]
     },
     "execution_count": 95,
     "metadata": {},
     "output_type": "execute_result"
    }
   ],
   "source": [
    "#Check any date not in 2018-05-20\n",
    "df.filter(df.view_date!='2018-05-20').count()"
   ]
  },
  {
   "cell_type": "code",
   "execution_count": 96,
   "metadata": {
    "collapsed": false
   },
   "outputs": [],
   "source": [
    "#View records \n",
    "df_check = df.filter(df.view_date!='2018-05-20')"
   ]
  },
  {
   "cell_type": "code",
   "execution_count": 97,
   "metadata": {
    "collapsed": false
   },
   "outputs": [
    {
     "data": {
      "text/plain": [
       "[Row(gmt_datetime='2018-05-21T00:00:00.241000', view_date=datetime.date(2018, 5, 21), view_hr='00'),\n",
       " Row(gmt_datetime='2018-05-21T00:00:00.296000', view_date=datetime.date(2018, 5, 21), view_hr='00'),\n",
       " Row(gmt_datetime='2018-05-21T00:00:00.238000', view_date=datetime.date(2018, 5, 21), view_hr='00'),\n",
       " Row(gmt_datetime='2018-05-21T00:00:00.338000', view_date=datetime.date(2018, 5, 21), view_hr='00'),\n",
       " Row(gmt_datetime='2018-05-21T00:00:00.714000', view_date=datetime.date(2018, 5, 21), view_hr='00')]"
      ]
     },
     "execution_count": 97,
     "metadata": {},
     "output_type": "execute_result"
    }
   ],
   "source": [
    "df_check.select(\"gmt_datetime\",\"view_date\",\"view_hr\").head(5)"
   ]
  },
  {
   "cell_type": "code",
   "execution_count": 98,
   "metadata": {
    "collapsed": false
   },
   "outputs": [
    {
     "name": "stdout",
     "output_type": "stream",
     "text": [
      "+----------+-------+-----+\n",
      "| view_date|view_hr|count|\n",
      "+----------+-------+-----+\n",
      "|2018-05-21|     00|   99|\n",
      "+----------+-------+-----+\n",
      "\n"
     ]
    }
   ],
   "source": [
    "df_check.select(\"gmt_datetime\",\"view_date\",\"view_hr\").groupBy(\"view_date\",\"view_hr\").count().show()"
   ]
  },
  {
   "cell_type": "markdown",
   "metadata": {},
   "source": [
    " - All records are on 2018-05-21 ,  those records should be filtered"
   ]
  },
  {
   "cell_type": "code",
   "execution_count": 99,
   "metadata": {
    "collapsed": true
   },
   "outputs": [],
   "source": [
    "# Filter records with date not in '2018-05-20'\n",
    "df = df.filter(df.view_date =='2018-05-20')"
   ]
  },
  {
   "cell_type": "code",
   "execution_count": 100,
   "metadata": {
    "collapsed": false
   },
   "outputs": [
    {
     "data": {
      "text/plain": [
       "0"
      ]
     },
     "execution_count": 100,
     "metadata": {},
     "output_type": "execute_result"
    }
   ],
   "source": [
    "# Ensure those records are filtered\n",
    "df.filter(df.view_date !='2018-05-20').count()"
   ]
  },
  {
   "cell_type": "code",
   "execution_count": 101,
   "metadata": {
    "collapsed": false
   },
   "outputs": [
    {
     "data": {
      "text/plain": [
       "1302980"
      ]
     },
     "execution_count": 101,
     "metadata": {},
     "output_type": "execute_result"
    }
   ],
   "source": [
    "# Updated total records\n",
    "df.count()"
   ]
  },
  {
   "cell_type": "markdown",
   "metadata": {},
   "source": [
    "- Completed data cleaning"
   ]
  },
  {
   "cell_type": "markdown",
   "metadata": {},
   "source": [
    "# Q1 Page View Events Analysis"
   ]
  },
  {
   "cell_type": "markdown",
   "metadata": {},
   "source": [
    "## Q1a The total number of pageviews"
   ]
  },
  {
   "cell_type": "code",
   "execution_count": 102,
   "metadata": {
    "collapsed": false
   },
   "outputs": [
    {
     "data": {
      "text/plain": [
       "1302980"
      ]
     },
     "execution_count": 102,
     "metadata": {},
     "output_type": "execute_result"
    }
   ],
   "source": [
    "#Q1a Total pageviews\n",
    "df.count()"
   ]
  },
  {
   "cell_type": "markdown",
   "metadata": {},
   "source": [
    "## Q1b The greatest view article"
   ]
  },
  {
   "cell_type": "markdown",
   "metadata": {},
   "source": [
    "- Article id 827 has greatest pageviews which is 49243"
   ]
  },
  {
   "cell_type": "code",
   "execution_count": 103,
   "metadata": {
    "collapsed": false
   },
   "outputs": [
    {
     "name": "stdout",
     "output_type": "stream",
     "text": [
      "+----------+-----+\n",
      "|article_id|count|\n",
      "+----------+-----+\n",
      "|       827|49243|\n",
      "+----------+-----+\n",
      "only showing top 1 row\n",
      "\n"
     ]
    }
   ],
   "source": [
    "#Q1b The greatest view article\n",
    "df.groupBy(\"article_id\").count().orderBy('count', ascending=False).show(1)"
   ]
  },
  {
   "cell_type": "markdown",
   "metadata": {},
   "source": [
    "## Q1c Greatest view article in each hour"
   ]
  },
  {
   "cell_type": "code",
   "execution_count": 104,
   "metadata": {
    "collapsed": false
   },
   "outputs": [
    {
     "name": "stdout",
     "output_type": "stream",
     "text": [
      "+---------+----------+---+------+------------+---------+-------+\n",
      "|server_ts|article_id|uid|device|gmt_datetime|view_date|view_hr|\n",
      "+---------+----------+---+------+------------+---------+-------+\n",
      "+---------+----------+---+------+------------+---------+-------+\n",
      "\n"
     ]
    }
   ],
   "source": [
    "#Check any invalid hour\n",
    "df.where((col(\"view_hr\").isNull()) | (col(\"view_hr\")>24)).show()"
   ]
  },
  {
   "cell_type": "code",
   "execution_count": 105,
   "metadata": {
    "collapsed": true
   },
   "outputs": [],
   "source": [
    "df_agg_hr = df.groupBy(\"view_hr\",\"article_id\").count()"
   ]
  },
  {
   "cell_type": "code",
   "execution_count": 106,
   "metadata": {
    "collapsed": false
   },
   "outputs": [],
   "source": [
    "# Create window partition by hour and order descending by count\n",
    "window = Window.partitionBy(df_agg_hr['view_hr']).orderBy(df_agg_hr['count'].desc())"
   ]
  },
  {
   "cell_type": "code",
   "execution_count": 107,
   "metadata": {
    "collapsed": false
   },
   "outputs": [],
   "source": [
    "# Get the article with greatest pagesview in each hour\n",
    "df_1c = df_agg_hr.select('*', rank().over(window).alias('rank')) \\\n",
    "  .filter(col('rank') <= 1) "
   ]
  },
  {
   "cell_type": "code",
   "execution_count": 108,
   "metadata": {
    "collapsed": false
   },
   "outputs": [
    {
     "name": "stdout",
     "output_type": "stream",
     "text": [
      "+----+----------+-----+\n",
      "|hour|article_id|count|\n",
      "+----+----------+-----+\n",
      "|  00|       830| 3105|\n",
      "|  01|       155| 4933|\n",
      "|  02|       830| 2914|\n",
      "|  03|       374| 5404|\n",
      "|  04|       374| 6139|\n",
      "|  05|       897| 4418|\n",
      "|  06|       813| 3214|\n",
      "|  07|       740| 2517|\n",
      "|  08|       712| 3045|\n",
      "|  09|       712| 1937|\n",
      "|  10|       827| 6702|\n",
      "|  11|       827| 7198|\n",
      "|  12|       827| 6428|\n",
      "|  13|       827| 5518|\n",
      "|  14|       827| 4806|\n",
      "|  15|        67| 6942|\n",
      "|  16|       827| 3139|\n",
      "|  17|       871| 2274|\n",
      "|  18|       827| 1072|\n",
      "|  19|       827|  696|\n",
      "|  20|       827|  391|\n",
      "|  21|       827|  430|\n",
      "|  22|        85| 1636|\n",
      "|  23|        85| 4229|\n",
      "+----+----------+-----+\n",
      "\n"
     ]
    }
   ],
   "source": [
    "# Display the table\n",
    "df_1c.select(df_1c.view_hr.alias('hour') ,'article_id','count').orderBy('hour').show(24)"
   ]
  },
  {
   "cell_type": "markdown",
   "metadata": {},
   "source": [
    "### Visualization on Q1c"
   ]
  },
  {
   "cell_type": "code",
   "execution_count": 109,
   "metadata": {
    "collapsed": true
   },
   "outputs": [],
   "source": [
    "%matplotlib inline\n",
    "import pandas as pd\n",
    "import matplotlib.pyplot as plt"
   ]
  },
  {
   "cell_type": "code",
   "execution_count": 110,
   "metadata": {
    "collapsed": false
   },
   "outputs": [],
   "source": [
    "#Visualization\n",
    "df_pd = df_1c.toPandas()"
   ]
  },
  {
   "cell_type": "code",
   "execution_count": 111,
   "metadata": {
    "collapsed": false
   },
   "outputs": [],
   "source": [
    "df_pd_sort = df_pd.sort_values(by=['count'],ascending=False)"
   ]
  },
  {
   "cell_type": "code",
   "execution_count": 112,
   "metadata": {
    "collapsed": false
   },
   "outputs": [
    {
     "data": {
      "text/html": [
       "<div>\n",
       "<table border=\"1\" class=\"dataframe\">\n",
       "  <thead>\n",
       "    <tr style=\"text-align: right;\">\n",
       "      <th></th>\n",
       "      <th>view_hr</th>\n",
       "      <th>article_id</th>\n",
       "      <th>count</th>\n",
       "      <th>rank</th>\n",
       "    </tr>\n",
       "  </thead>\n",
       "  <tbody>\n",
       "    <tr>\n",
       "      <th>2</th>\n",
       "      <td>11</td>\n",
       "      <td>827</td>\n",
       "      <td>7198</td>\n",
       "      <td>1</td>\n",
       "    </tr>\n",
       "    <tr>\n",
       "      <th>1</th>\n",
       "      <td>15</td>\n",
       "      <td>67</td>\n",
       "      <td>6942</td>\n",
       "      <td>1</td>\n",
       "    </tr>\n",
       "    <tr>\n",
       "      <th>18</th>\n",
       "      <td>10</td>\n",
       "      <td>827</td>\n",
       "      <td>6702</td>\n",
       "      <td>1</td>\n",
       "    </tr>\n",
       "    <tr>\n",
       "      <th>19</th>\n",
       "      <td>12</td>\n",
       "      <td>827</td>\n",
       "      <td>6428</td>\n",
       "      <td>1</td>\n",
       "    </tr>\n",
       "    <tr>\n",
       "      <th>20</th>\n",
       "      <td>04</td>\n",
       "      <td>374</td>\n",
       "      <td>6139</td>\n",
       "      <td>1</td>\n",
       "    </tr>\n",
       "  </tbody>\n",
       "</table>\n",
       "</div>"
      ],
      "text/plain": [
       "   view_hr article_id  count  rank\n",
       "2       11        827   7198     1\n",
       "1       15         67   6942     1\n",
       "18      10        827   6702     1\n",
       "19      12        827   6428     1\n",
       "20      04        374   6139     1"
      ]
     },
     "execution_count": 112,
     "metadata": {},
     "output_type": "execute_result"
    }
   ],
   "source": [
    "df_pd_sort.head()"
   ]
  },
  {
   "cell_type": "code",
   "execution_count": 113,
   "metadata": {
    "collapsed": false
   },
   "outputs": [
    {
     "data": {
      "text/plain": [
       "<matplotlib.text.Text at 0x124fb74a8>"
      ]
     },
     "execution_count": 113,
     "metadata": {},
     "output_type": "execute_result"
    },
    {
     "data": {
      "image/png": "[encoded data removed]",
      "text/plain": [
       "<matplotlib.figure.Figure at 0x12602bf28>"
      ]
     },
     "metadata": {},
     "output_type": "display_data"
    }
   ],
   "source": [
    "# Create a bar plot\n",
    "ax = df_pd_sort.plot(x='view_hr', y='count', kind='bar', title =\"Pageviews count in each hour on 2018-05-20\", \\\n",
    "                figsize=(15,10),legend=True, fontsize=12)\n",
    "ax.set_xlabel(\"Hour\",fontsize=12)\n",
    "ax.set_ylabel(\"Pageviews\",fontsize=12)\n"
   ]
  },
  {
   "cell_type": "markdown",
   "metadata": {},
   "source": [
    "- 10am-12noon and 3:00pm are top 4 pageviews period"
   ]
  },
  {
   "cell_type": "markdown",
   "metadata": {},
   "source": [
    "## Q1d Average and Median number of pageviews per user"
   ]
  },
  {
   "cell_type": "markdown",
   "metadata": {},
   "source": [
    " - No. of unique user is 543069 (Notes: All users without id count as 1 user)"
   ]
  },
  {
   "cell_type": "code",
   "execution_count": 114,
   "metadata": {
    "collapsed": false
   },
   "outputs": [
    {
     "name": "stdout",
     "output_type": "stream",
     "text": [
      "+---------+----------+------+------+------------+---------+-------+\n",
      "|server_ts|article_id|   uid|device|gmt_datetime|view_date|view_hr|\n",
      "+---------+----------+------+------+------------+---------+-------+\n",
      "|  1291262|       997|543068|     2|     1291262|        1|     24|\n",
      "+---------+----------+------+------+------------+---------+-------+\n",
      "\n"
     ]
    }
   ],
   "source": [
    "df.agg(*(countDistinct(col(c)).alias(c) for c in df.columns)).show()"
   ]
  },
  {
   "cell_type": "code",
   "execution_count": 115,
   "metadata": {
    "collapsed": false
   },
   "outputs": [],
   "source": [
    "# Sort the pageviews count per user in ascending order\n",
    "df_agg = df.groupBy(\"uid\").count().orderBy(\"count\")"
   ]
  },
  {
   "cell_type": "markdown",
   "metadata": {},
   "source": [
    "* The average pageviews per user is 2.3995"
   ]
  },
  {
   "cell_type": "code",
   "execution_count": 116,
   "metadata": {
    "collapsed": false
   },
   "outputs": [
    {
     "name": "stdout",
     "output_type": "stream",
     "text": [
      "+-----------------+\n",
      "|       avg(count)|\n",
      "+-----------------+\n",
      "|2.399294379341077|\n",
      "+-----------------+\n",
      "\n"
     ]
    }
   ],
   "source": [
    "#Average\n",
    "df_agg.agg({\"count\": \"avg\"}).show()"
   ]
  },
  {
   "cell_type": "markdown",
   "metadata": {},
   "source": [
    "* The median pageviews per user is 1"
   ]
  },
  {
   "cell_type": "code",
   "execution_count": 117,
   "metadata": {
    "collapsed": false
   },
   "outputs": [
    {
     "data": {
      "text/plain": [
       "[1.0]"
      ]
     },
     "execution_count": 117,
     "metadata": {},
     "output_type": "execute_result"
    }
   ],
   "source": [
    "#Median\n",
    "df_agg.approxQuantile(\"count\", [0.5], 0.25)"
   ]
  },
  {
   "cell_type": "markdown",
   "metadata": {},
   "source": [
    " * Check median"
   ]
  },
  {
   "cell_type": "code",
   "execution_count": 118,
   "metadata": {
    "collapsed": true
   },
   "outputs": [],
   "source": [
    "check_median = df_agg.toPandas()"
   ]
  },
  {
   "cell_type": "code",
   "execution_count": 119,
   "metadata": {
    "collapsed": false
   },
   "outputs": [
    {
     "data": {
      "text/html": [
       "<div>\n",
       "<table border=\"1\" class=\"dataframe\">\n",
       "  <thead>\n",
       "    <tr style=\"text-align: right;\">\n",
       "      <th></th>\n",
       "      <th>uid</th>\n",
       "      <th>count</th>\n",
       "    </tr>\n",
       "  </thead>\n",
       "  <tbody>\n",
       "    <tr>\n",
       "      <th>0</th>\n",
       "      <td>238b41ee</td>\n",
       "      <td>1</td>\n",
       "    </tr>\n",
       "    <tr>\n",
       "      <th>1</th>\n",
       "      <td>11680de7</td>\n",
       "      <td>1</td>\n",
       "    </tr>\n",
       "    <tr>\n",
       "      <th>2</th>\n",
       "      <td>a1f3350f</td>\n",
       "      <td>1</td>\n",
       "    </tr>\n",
       "    <tr>\n",
       "      <th>3</th>\n",
       "      <td>4ea36de8</td>\n",
       "      <td>1</td>\n",
       "    </tr>\n",
       "    <tr>\n",
       "      <th>4</th>\n",
       "      <td>15045d2f</td>\n",
       "      <td>1</td>\n",
       "    </tr>\n",
       "  </tbody>\n",
       "</table>\n",
       "</div>"
      ],
      "text/plain": [
       "        uid  count\n",
       "0  238b41ee      1\n",
       "1  11680de7      1\n",
       "2  a1f3350f      1\n",
       "3  4ea36de8      1\n",
       "4  15045d2f      1"
      ]
     },
     "execution_count": 119,
     "metadata": {},
     "output_type": "execute_result"
    }
   ],
   "source": [
    "check_median.head()"
   ]
  },
  {
   "cell_type": "code",
   "execution_count": 120,
   "metadata": {
    "collapsed": false
   },
   "outputs": [
    {
     "data": {
      "text/plain": [
       "1.0"
      ]
     },
     "execution_count": 120,
     "metadata": {},
     "output_type": "execute_result"
    }
   ],
   "source": [
    "check_median['count'].median()"
   ]
  },
  {
   "cell_type": "markdown",
   "metadata": {},
   "source": [
    "# Q2 User Session Analysis"
   ]
  },
  {
   "cell_type": "markdown",
   "metadata": {},
   "source": [
    " - Transform to session dataframe"
   ]
  },
  {
   "cell_type": "code",
   "execution_count": 121,
   "metadata": {
    "collapsed": true
   },
   "outputs": [],
   "source": [
    "# Create a new dataframe sort by uid and server timestamp\n",
    "df_q2 = df.sort('uid','server_ts')"
   ]
  },
  {
   "cell_type": "code",
   "execution_count": 122,
   "metadata": {
    "collapsed": true
   },
   "outputs": [],
   "source": [
    "# Define a function to find session legnth \n",
    "# x should be a list of timestamp of each user\n",
    "def findSession(x):\n",
    "    # define first and last variable and set to 0\n",
    "    # first = session start timestamp , last = previous timestamp\n",
    "    first = last = 0\n",
    "    # create a list to store every session length\n",
    "    durations = []\n",
    "    # loop every elemenet in the list\n",
    "    for row in x:\n",
    "        if (first == 0):\n",
    "            # store row to first for every session start\n",
    "            first = row\n",
    "            # check new session\n",
    "        if((row - first) > 30*60*1000):\n",
    "            # store timestamp between first and last pages view as session length\n",
    "            durations.append(last - first)\n",
    "            #print('Found session from', first, ' to ', last, 'session length:', (last-first))\n",
    "            # set current timestamp as new session start\n",
    "            first = row\n",
    "        # update last variable    \n",
    "        last = row\n",
    "    # add final session length\n",
    "    durations.append(last - first)\n",
    "    #print('Found final session from', first, ' to ', last, 'session length:', (last-first))\n",
    "    # return a list of session length of the user\n",
    "    return durations"
   ]
  },
  {
   "cell_type": "code",
   "execution_count": 123,
   "metadata": {
    "collapsed": true
   },
   "outputs": [],
   "source": [
    "# Register function\n",
    "udf_findSession = udf(findSession, ArrayType(IntegerType()))"
   ]
  },
  {
   "cell_type": "code",
   "execution_count": 124,
   "metadata": {
    "collapsed": false
   },
   "outputs": [],
   "source": [
    "# Group all timestamp by user id and store as list in ts column\n",
    "# Add session length column from findSession() \n",
    "df_group = df_q2.groupBy('uid').agg(collect_list(df_q2.server_ts).alias('ts')). \\\n",
    "            withColumn('sessionLength', udf_findSession('ts'))"
   ]
  },
  {
   "cell_type": "code",
   "execution_count": 125,
   "metadata": {
    "collapsed": true
   },
   "outputs": [],
   "source": [
    "# Explode session length list to row for each user \n",
    "df_session = df_group.select('uid',explode('sessionLength').alias('sessionLength'))"
   ]
  },
  {
   "cell_type": "markdown",
   "metadata": {},
   "source": [
    " - Transformed to session dataframe"
   ]
  },
  {
   "cell_type": "code",
   "execution_count": 126,
   "metadata": {
    "collapsed": false
   },
   "outputs": [
    {
     "name": "stdout",
     "output_type": "stream",
     "text": [
      "+--------+-------------+\n",
      "|     uid|sessionLength|\n",
      "+--------+-------------+\n",
      "|000cd7dd|       811365|\n",
      "|004abcf8|            0|\n",
      "|00723ac0|            0|\n",
      "|0074550b|       888207|\n",
      "|0074550b|            0|\n",
      "|0074550b|            0|\n",
      "|0075fc8c|       229361|\n",
      "|00a345f2|            0|\n",
      "|00cc9468|            0|\n",
      "|00d8e6a1|            0|\n",
      "|00d8edce|        97143|\n",
      "|00d8edce|       459686|\n",
      "|00d8edce|       369315|\n",
      "|00d8edce|       886920|\n",
      "|00d8edce|            0|\n",
      "|00d8edce|            0|\n",
      "|00ec39ee|       718182|\n",
      "|00f59c56|            0|\n",
      "|00f7ff75|            0|\n",
      "|010112bd|            0|\n",
      "+--------+-------------+\n",
      "only showing top 20 rows\n",
      "\n"
     ]
    }
   ],
   "source": [
    "df_session.show()"
   ]
  },
  {
   "cell_type": "markdown",
   "metadata": {},
   "source": [
    "## Q2a Total number of sessions"
   ]
  },
  {
   "cell_type": "markdown",
   "metadata": {},
   "source": [
    " * There are total 774467 sessions on 2018-05-20"
   ]
  },
  {
   "cell_type": "code",
   "execution_count": 127,
   "metadata": {
    "collapsed": false
   },
   "outputs": [
    {
     "data": {
      "text/plain": [
       "774467"
      ]
     },
     "execution_count": 127,
     "metadata": {},
     "output_type": "execute_result"
    }
   ],
   "source": [
    "df_session.count()"
   ]
  },
  {
   "cell_type": "markdown",
   "metadata": {},
   "source": [
    "## Q2b User with largest number of session"
   ]
  },
  {
   "cell_type": "markdown",
   "metadata": {},
   "source": [
    " * User with id c82275f3 has the 39 sessions which is the greatest"
   ]
  },
  {
   "cell_type": "code",
   "execution_count": 128,
   "metadata": {
    "collapsed": false
   },
   "outputs": [
    {
     "name": "stdout",
     "output_type": "stream",
     "text": [
      "+--------+-----+\n",
      "|     uid|count|\n",
      "+--------+-----+\n",
      "|c82275f3|   39|\n",
      "+--------+-----+\n",
      "only showing top 1 row\n",
      "\n"
     ]
    }
   ],
   "source": [
    "df_session.groupBy('uid').count().orderBy('count',ascending=False).show(1)"
   ]
  },
  {
   "cell_type": "markdown",
   "metadata": {},
   "source": [
    "## Q2c Average and median of session length"
   ]
  },
  {
   "cell_type": "markdown",
   "metadata": {},
   "source": [
    " * The average session length is 141702.1 (~2.36 mins) "
   ]
  },
  {
   "cell_type": "code",
   "execution_count": 131,
   "metadata": {
    "collapsed": false
   },
   "outputs": [
    {
     "name": "stdout",
     "output_type": "stream",
     "text": [
      "+------------------+\n",
      "|avg(sessionLength)|\n",
      "+------------------+\n",
      "| 141702.1004377187|\n",
      "+------------------+\n",
      "\n"
     ]
    }
   ],
   "source": [
    "#Average\n",
    "df_session.agg({\"sessionLength\": \"avg\"}).show()"
   ]
  },
  {
   "cell_type": "markdown",
   "metadata": {},
   "source": [
    " * The median session length is 0"
   ]
  },
  {
   "cell_type": "code",
   "execution_count": 132,
   "metadata": {
    "collapsed": false
   },
   "outputs": [
    {
     "data": {
      "text/plain": [
       "[0.0]"
      ]
     },
     "execution_count": 132,
     "metadata": {},
     "output_type": "execute_result"
    }
   ],
   "source": [
    "#Median\n",
    "df_session.sort(\"sessionLength\").approxQuantile(\"sessionLength\", [0.5], 0.25)"
   ]
  },
  {
   "cell_type": "markdown",
   "metadata": {},
   "source": [
    "* Check median"
   ]
  },
  {
   "cell_type": "code",
   "execution_count": 133,
   "metadata": {
    "collapsed": true
   },
   "outputs": [],
   "source": [
    "check_median2 = df_session.toPandas()"
   ]
  },
  {
   "cell_type": "code",
   "execution_count": 134,
   "metadata": {
    "collapsed": false
   },
   "outputs": [
    {
     "data": {
      "text/plain": [
       "0.0"
      ]
     },
     "execution_count": 134,
     "metadata": {},
     "output_type": "execute_result"
    }
   ],
   "source": [
    "check_median2['sessionLength'].median()"
   ]
  },
  {
   "cell_type": "markdown",
   "metadata": {},
   "source": [
    "## 5. Testing "
   ]
  },
  {
   "cell_type": "markdown",
   "metadata": {},
   "source": [
    " #### i. Test Case"
   ]
  },
  {
   "cell_type": "markdown",
   "metadata": {},
   "source": [
    "| Test case  |   User id   | Description  |  Result  |\n",
    "|:----------:|:-----------:|---|---|:-:|\n",
    "|      1     |   004abcf8  | User clicks only once in the  whole day  |  Pass  |\n",
    "|      2     |   000cd7dd  | User clicks within 30 mins and  does not click in the rest of day  | Pass  |\n",
    "|      3     |   0346a137  | User clicks second time  after 30 mins of the first click  | Pass |\n",
    "|      4     |   01afa787  | User clicks 4 times per day but time interval >30 mins between each clicks  |  Pass  |\n",
    "|      5     |   00d8edce  | User clicks serveral times in each session  | Pass  |"
   ]
  },
  {
   "cell_type": "markdown",
   "metadata": {},
   "source": [
    "* Notes: Test details are listed in test_log.excel"
   ]
  },
  {
   "cell_type": "markdown",
   "metadata": {},
   "source": [
    "#### ii.Test Function"
   ]
  },
  {
   "cell_type": "markdown",
   "metadata": {},
   "source": [
    "   * Create a test function on findSession with 5 test cases"
   ]
  },
  {
   "cell_type": "code",
   "execution_count": 135,
   "metadata": {
    "collapsed": true
   },
   "outputs": [],
   "source": [
    "def findSession_Test():\n",
    "    \n",
    "    # Test Case 1 - User clicks only once in the  whole day\n",
    "    input1 = [1526835814516]\n",
    "    result = findSession(input1)\n",
    "    expected_result = [0]\n",
    "    assert result == expected_result\n",
    "    print(\"Test 1 successful\")\n",
    "    \n",
    "    # Test Case 2 - User clicks within 30 mins and does not click in the rest of day\n",
    "    input2 = [1526799963986,1526800253259,1526800399991,1526800509294,1526800775351]\n",
    "    result = findSession(input2)\n",
    "    expected_result = [811365]\n",
    "    assert result == expected_result\n",
    "    print(\"Test 2 successful\")\n",
    "    \n",
    "    # Test Case 3 - User clicks second time after 30 mins of the first click\n",
    "    input3 = [1526787725619,1526825846350,1526825865182]\n",
    "    result = findSession(input3)\n",
    "    expected_result = [0,18832]\n",
    "    assert result == expected_result\n",
    "    print(\"Test 3 successful\")\n",
    "    \n",
    "    # Test Case 4 - User clicks 4 times per day but time interval >30 mins between each click\n",
    "    input4 = [1526777752265,1526782639489,1526830729934,1526834621842]\n",
    "    result = findSession(input4)\n",
    "    expected_result = [0,0,0,0]\n",
    "    assert result == expected_result\n",
    "    print(\"Test 4 successful\")\n",
    "    \n",
    "    # Test Case 5 - User clicks serveral times in fisrt 4 sessions and click again after 30mins\n",
    "    input5 = [1526778130709,1526778227852,1526780165492,1526780188969,1526780214247,1526780625178,\n",
    "              1526791616575,1526791694574,1526791985890,1526801416242,1526801505549,1526802303162,\n",
    "            1526812445582,1526828731830]\n",
    "    result = findSession(input5)\n",
    "    expected_result = [97143,459686,369315,886920,0,0]\n",
    "    assert result == expected_result\n",
    "    print(\"Test 5 successful\")"
   ]
  },
  {
   "cell_type": "code",
   "execution_count": 136,
   "metadata": {
    "collapsed": false,
    "scrolled": false
   },
   "outputs": [
    {
     "name": "stdout",
     "output_type": "stream",
     "text": [
      "Test 1 successful\n",
      "Test 2 successful\n",
      "Test 3 successful\n",
      "Test 4 successful\n",
      "Test 5 successful\n"
     ]
    }
   ],
   "source": [
    "findSession_Test()"
   ]
  },
  {
   "cell_type": "code",
   "execution_count": 137,
   "metadata": {
    "collapsed": false
   },
   "outputs": [
    {
     "name": "stdout",
     "output_type": "stream",
     "text": [
      "+--------+-------------+--------------------+\n",
      "|     uid|    server_ts|        gmt_datetime|\n",
      "+--------+-------------+--------------------+\n",
      "|00d8edce|1526778130709|2018-05-20T01:02:...|\n",
      "|00d8edce|1526778227852|2018-05-20T01:03:...|\n",
      "|00d8edce|1526780165492|2018-05-20T01:36:...|\n",
      "|00d8edce|1526780188969|2018-05-20T01:36:...|\n",
      "|00d8edce|1526780214247|2018-05-20T01:36:...|\n",
      "|00d8edce|1526780625178|2018-05-20T01:43:...|\n",
      "|00d8edce|1526791616575|2018-05-20T04:46:...|\n",
      "|00d8edce|1526791694574|2018-05-20T04:48:...|\n",
      "|00d8edce|1526791985890|2018-05-20T04:53:...|\n",
      "|00d8edce|1526801416242|2018-05-20T07:30:...|\n",
      "|00d8edce|1526801505549|2018-05-20T07:31:...|\n",
      "|00d8edce|1526802303162|2018-05-20T07:45:...|\n",
      "|00d8edce|1526812445582|2018-05-20T10:34:...|\n",
      "|00d8edce|1526828731830|2018-05-20T15:05:...|\n",
      "+--------+-------------+--------------------+\n",
      "\n",
      "+--------+-------------+\n",
      "|     uid|sessionLength|\n",
      "+--------+-------------+\n",
      "|00d8edce|        97143|\n",
      "|00d8edce|       459686|\n",
      "|00d8edce|       369315|\n",
      "|00d8edce|       886920|\n",
      "|00d8edce|            0|\n",
      "|00d8edce|            0|\n",
      "+--------+-------------+\n",
      "\n"
     ]
    }
   ],
   "source": [
    "# Checking user timestamp and session by user id\n",
    "user_id = \"00d8edce\"\n",
    "df_q2.select(\"uid\",\"server_ts\",\"gmt_datetime\").filter(df_q2['uid'] == user_id).show()\n",
    "df_session.filter(df_session['uid'] == user_id).show()"
   ]
  },
  {
   "cell_type": "markdown",
   "metadata": {},
   "source": [
    "End of the test "
   ]
  }
 ],
 "metadata": {
  "kernelspec": {
   "display_name": "Python [default]",
   "language": "python",
   "name": "python3"
  },
  "language_info": {
   "codemirror_mode": {
    "name": "ipython",
    "version": 3
   },
   "file_extension": ".py",
   "mimetype": "text/x-python",
   "name": "python",
   "nbconvert_exporter": "python",
   "pygments_lexer": "ipython3",
   "version": "3.6.0"
  }
 },
 "nbformat": 4,
 "nbformat_minor": 2
}
